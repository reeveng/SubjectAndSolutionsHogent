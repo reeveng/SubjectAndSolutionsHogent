{
 "cells": [
  {
   "cell_type": "markdown",
   "metadata": {},
   "source": [
    "## Werken met geometrische verdeling"
   ]
  },
  {
   "cell_type": "code",
   "execution_count": 1,
   "metadata": {},
   "outputs": [],
   "source": [
    "import numpy as np\n",
    "import scipy.stats\n",
    "import matplotlib.pyplot as plt"
   ]
  },
  {
   "cell_type": "code",
   "execution_count": 4,
   "metadata": {},
   "outputs": [],
   "source": [
    "## Eenvoudige functie om de kansfunctie van een binomiale\n",
    "## verdeling te plotten.\n",
    "def plot_geom(ax, n, p):\n",
    "    ## n limits the number of points to be plotted\n",
    "    x = np.arange(1, n + 1)\n",
    "    y = scipy.stats.geom.pmf(x, p)\n",
    "    ax.scatter(x, y, color = 'b')\n",
    "    ax.vlines(x, 0, y, colors = 'b', alpha = 0.5)\n",
    "    ax.set_xticks(np.arange(0, n + 1, 2))\n",
    "    ax.set_title(f\"p = {p}\")"
   ]
  },
  {
   "cell_type": "code",
   "execution_count": 5,
   "metadata": {},
   "outputs": [
    {
     "data": {
      "image/png": "[encoded data removed]",
      "text/plain": [
       "<Figure size 432x288 with 4 Axes>"
      ]
     },
     "metadata": {
      "needs_background": "light"
     },
     "output_type": "display_data"
    }
   ],
   "source": [
    "n = 10\n",
    "fig, ax = plt.subplots(2, 2, sharex=True, sharey=True)\n",
    "plot_geom(ax[0,0], n, p = 0.2)\n",
    "plot_geom(ax[0,1], n, p = 0.4)\n",
    "plot_geom(ax[1,0], n, p = 0.6)\n",
    "plot_geom(ax[1,1], n, p = 0.8)"
   ]
  },
  {
   "cell_type": "markdown",
   "metadata": {},
   "source": [
    "## Werken met de geometrische verdeling\n",
    "Gebruik <code>scipy.stats.geom.pmf()</code> en <code>scipy.stats.geom.cdf()</code> voor kansfunctie en cumulatieve kansfunctie voor de geometrische verdeling"
   ]
  },
  {
   "cell_type": "code",
   "execution_count": 11,
   "metadata": {},
   "outputs": [
    {
     "name": "stdout",
     "output_type": "stream",
     "text": [
      "Kans op sleutelwoord binnen de eerste vijf 0.5562946875\n",
      "Gemiddeld aantal webpagina's 6.666666666666667\n"
     ]
    }
   ],
   "source": [
    "## Oefening 8 van sectie 3.2.5\n",
    "p = 0.15\n",
    "print(f\"Kans op sleutelwoord binnen de eerste vijf {scipy.stats.geom.cdf(5, p)}\")\n",
    "print(f\"Gemiddeld aantal webpagina's {scipy.stats.geom.mean(p)}\")"
   ]
  },
  {
   "cell_type": "markdown",
   "metadata": {},
   "source": [
    "## Simulatie trekken tot r verschillende uit verzameling van n elementen"
   ]
  },
  {
   "cell_type": "code",
   "execution_count": 6,
   "metadata": {},
   "outputs": [],
   "source": [
    "def simulate(aantal_te_trekken, aantal_verschillende, aantal_herhalingen):\n",
    "    assert aantal_verschillende >= aantal_te_trekken\n",
    "    aantal_trekkingen = []\n",
    "    for _ in range(aantal_herhalingen):\n",
    "        gezien = set()\n",
    "        aantal = 0\n",
    "        while len(gezien) < aantal_te_trekken:\n",
    "            aantal += 1\n",
    "            elem = np.random.randint(0, aantal_verschillende)\n",
    "            if not elem in gezien:\n",
    "                gezien.add(elem)\n",
    "        aantal_trekkingen.append(aantal)\n",
    "    return aantal_trekkingen"
   ]
  },
  {
   "cell_type": "code",
   "execution_count": 9,
   "metadata": {},
   "outputs": [],
   "source": [
    "aantal_te_trekken = 6\n",
    "aantal_verschillende = 6\n",
    "aantal_herhalingen = 1000\n",
    "resultaten = simulate(aantal_te_trekken, aantal_verschillende, aantal_herhalingen)"
   ]
  },
  {
   "cell_type": "code",
   "execution_count": 10,
   "metadata": {},
   "outputs": [
    {
     "name": "stdout",
     "output_type": "stream",
     "text": [
      "Gemiddeld aantal pogingen 15.003\n"
     ]
    }
   ],
   "source": [
    "print(f\"Gemiddeld aantal pogingen {np.mean(resultaten)}\")"
   ]
  }
 ],
 "metadata": {
  "kernelspec": {
   "display_name": "Python 3",
   "language": "python",
   "name": "python3"
  },
  "language_info": {
   "codemirror_mode": {
    "name": "ipython",
    "version": 3
   },
   "file_extension": ".py",
   "mimetype": "text/x-python",
   "name": "python",
   "nbconvert_exporter": "python",
   "pygments_lexer": "ipython3",
   "version": "3.7.0"
  }
 },
 "nbformat": 4,
 "nbformat_minor": 2
}
