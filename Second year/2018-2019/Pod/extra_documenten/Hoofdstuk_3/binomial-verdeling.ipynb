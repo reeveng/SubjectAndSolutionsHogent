{
 "cells": [
  {
   "cell_type": "markdown",
   "metadata": {},
   "source": [
    "# Eenvoudige plot van de binomiale distributie"
   ]
  },
  {
   "cell_type": "code",
   "execution_count": 1,
   "metadata": {},
   "outputs": [],
   "source": [
    "import numpy as np\n",
    "import scipy.stats\n",
    "import matplotlib.pyplot as plt"
   ]
  },
  {
   "cell_type": "code",
   "execution_count": 2,
   "metadata": {},
   "outputs": [],
   "source": [
    "## Eenvoudige functie om de kansfunctie van een binomiale\n",
    "## verdeling te plotten.\n",
    "def plot_binom(ax, n, p):\n",
    "    x = np.arange(0, n + 1)\n",
    "    y = scipy.stats.binom.pmf(x, n, p)\n",
    "    ax.scatter(x, y, color = 'b')\n",
    "    ax.vlines(x, 0, y, colors = 'b', alpha = 0.5)\n",
    "    ax.set_xticks(np.arange(0, n + 1, 2))\n",
    "    ax.set_title(f\"n = {n}, p = {p}\")"
   ]
  },
  {
   "cell_type": "code",
   "execution_count": 6,
   "metadata": {},
   "outputs": [
    {
     "data": {
      "image/png": "[encoded data removed]",
      "text/plain": [
       "<Figure size 432x288 with 4 Axes>"
      ]
     },
     "metadata": {
      "needs_background": "light"
     },
     "output_type": "display_data"
    }
   ],
   "source": [
    "n = 10\n",
    "fig, ax = plt.subplots(2, 2, sharex=True, sharey=True)\n",
    "plot_binom(ax[0,0], n, p = 0.2)\n",
    "plot_binom(ax[0,1], n, p = 0.4)\n",
    "plot_binom(ax[1,0], n, p = 0.6)\n",
    "plot_binom(ax[1,1], n, p = 0.8)"
   ]
  },
  {
   "cell_type": "markdown",
   "metadata": {},
   "source": [
    "### Werken met de binomiale distributie\n",
    "\n",
    "Gebruik <code>binom.stats.binom.pmf()</code> en <code>binom.stats.binom.cdf()</code> voor kansfunctie en cumulatieve kansfunctie voor de binomiale verdeling"
   ]
  },
  {
   "cell_type": "code",
   "execution_count": 4,
   "metadata": {},
   "outputs": [
    {
     "name": "stdout",
     "output_type": "stream",
     "text": [
      "Kans dat iedereen nog leeft 0.0060466176\n",
      "Kans dat minstens 3 personen nog leven: 0.9877054464\n",
      "Kans dat exact 4 personen nog leven 0.11147673600000013\n"
     ]
    }
   ],
   "source": [
    "## Oefening 1 van sectie 3.2.5\n",
    "n, p = 10, 0.6\n",
    "## De kans dat iedereen nog leeft.\n",
    "print(f\"Kans dat iedereen nog leeft {scipy.stats.binom.pmf(10, n, p)}\")\n",
    "## De kans dat nog minstens drie personen leven\n",
    "print(f\"Kans dat minstens 3 personen nog leven: {1 - scipy.stats.binom.cdf(2, n, p)}\")\n",
    "## De kans dat exact vier personen nog leven\n",
    "print(f\"Kans dat exact 4 personen nog leven {scipy.stats.binom.pmf(4, n, p)}\")"
   ]
  },
  {
   "cell_type": "code",
   "execution_count": 5,
   "metadata": {},
   "outputs": [
    {
     "name": "stdout",
     "output_type": "stream",
     "text": [
      "0.23012777046599958\n",
      "0.13721964186243854\n"
     ]
    }
   ],
   "source": [
    "## Oefening 3 van sectie 3.2.5\n",
    "p = 0.10\n",
    "n = 12\n",
    "print(scipy.stats.binom.pmf(2, n, p))\n",
    "n = 144\n",
    "print(scipy.stats.binom.cdf(10, n, p))"
   ]
  }
 ],
 "metadata": {
  "kernelspec": {
   "display_name": "Python 3",
   "language": "python",
   "name": "python3"
  },
  "language_info": {
   "codemirror_mode": {
    "name": "ipython",
    "version": 3
   },
   "file_extension": ".py",
   "mimetype": "text/x-python",
   "name": "python",
   "nbconvert_exporter": "python",
   "pygments_lexer": "ipython3",
   "version": "3.7.0"
  }
 },
 "nbformat": 4,
 "nbformat_minor": 2
}
